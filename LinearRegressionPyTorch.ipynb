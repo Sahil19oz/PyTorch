{
 "cells": [
  {
   "cell_type": "code",
   "execution_count": 1,
   "metadata": {},
   "outputs": [],
   "source": [
    "import torch\n",
    "import torch.nn as nn\n",
    "from torch.utils.data import TensorDataset,DataLoader"
   ]
  },
  {
   "cell_type": "code",
   "execution_count": 3,
   "metadata": {},
   "outputs": [],
   "source": [
    "import numpy as np"
   ]
  },
  {
   "cell_type": "code",
   "execution_count": 4,
   "metadata": {},
   "outputs": [],
   "source": [
    "# Input (temp, rainfall, humidity)\n",
    "inputs = np.array([[73, 67, 43], [91, 88, 64], [87, 134, 58], \n",
    "                   [102, 43, 37], [69, 96, 70], [73, 67, 43], \n",
    "                   [91, 88, 64], [87, 134, 58], [102, 43, 37], \n",
    "                   [69, 96, 70], [73, 67, 43], [91, 88, 64], \n",
    "                   [87, 134, 58], [102, 43, 37], [69, 96, 70]], \n",
    "                  dtype='float32')\n",
    "\n",
    "# Targets (apples, oranges)\n",
    "targets = np.array([[56, 70], [81, 101], [119, 133], \n",
    "                    [22, 37], [103, 119], [56, 70], \n",
    "                    [81, 101], [119, 133], [22, 37], \n",
    "                    [103, 119], [56, 70], [81, 101], \n",
    "                    [119, 133], [22, 37], [103, 119]], \n",
    "                   dtype='float32')"
   ]
  },
  {
   "cell_type": "code",
   "execution_count": 5,
   "metadata": {},
   "outputs": [],
   "source": [
    "inputs=torch.from_numpy(inputs)\n",
    "targets=torch.from_numpy(targets)"
   ]
  },
  {
   "cell_type": "code",
   "execution_count": 21,
   "metadata": {},
   "outputs": [],
   "source": [
    "train_ds=TensorDataset(inputs,targets)\n",
    "batch_size=5\n",
    "train_dl=DataLoader(train_ds,batch_size,shuffle=True)"
   ]
  },
  {
   "cell_type": "code",
   "execution_count": 22,
   "metadata": {},
   "outputs": [
    {
     "name": "stdout",
     "output_type": "stream",
     "text": [
      "Parameter containing:\n",
      "tensor([[ 0.2480, -0.5486,  0.3967],\n",
      "        [ 0.0579, -0.0037, -0.1194]], requires_grad=True)\n",
      "Parameter containing:\n",
      "tensor([-0.3466, -0.0209], requires_grad=True)\n"
     ]
    }
   ],
   "source": [
    "#create models\n",
    "model=nn.Linear(3,2)\n",
    "print(model.weight)\n",
    "print(model.bias)"
   ]
  },
  {
   "cell_type": "code",
   "execution_count": 23,
   "metadata": {},
   "outputs": [
    {
     "name": "stdout",
     "output_type": "stream",
     "text": [
      "tensor([[ -1.9385,  -1.1774],\n",
      "        [ -0.6640,  -2.7205],\n",
      "        [-29.2723,  -2.4044],\n",
      "        [ 16.0413,   1.3051],\n",
      "        [ -8.1298,  -4.7392],\n",
      "        [ -1.9385,  -1.1774],\n",
      "        [ -0.6640,  -2.7205],\n",
      "        [-29.2723,  -2.4044],\n",
      "        [ 16.0413,   1.3051],\n",
      "        [ -8.1298,  -4.7392],\n",
      "        [ -1.9385,  -1.1774],\n",
      "        [ -0.6640,  -2.7205],\n",
      "        [-29.2723,  -2.4044],\n",
      "        [ 16.0413,   1.3051],\n",
      "        [ -8.1298,  -4.7392]], grad_fn=<AddmmBackward>)\n",
      "tensor([[ 56.,  70.],\n",
      "        [ 81., 101.],\n",
      "        [119., 133.],\n",
      "        [ 22.,  37.],\n",
      "        [103., 119.],\n",
      "        [ 56.,  70.],\n",
      "        [ 81., 101.],\n",
      "        [119., 133.],\n",
      "        [ 22.,  37.],\n",
      "        [103., 119.],\n",
      "        [ 56.,  70.],\n",
      "        [ 81., 101.],\n",
      "        [119., 133.],\n",
      "        [ 22.,  37.],\n",
      "        [103., 119.]])\n"
     ]
    }
   ],
   "source": [
    "#make predictions\n",
    "preds=model(inputs)\n",
    "print(preds)\n",
    "print(targets)"
   ]
  },
  {
   "cell_type": "code",
   "execution_count": 24,
   "metadata": {},
   "outputs": [
    {
     "name": "stdout",
     "output_type": "stream",
     "text": [
      "tensor(9513.9902, grad_fn=<MseLossBackward>)\n"
     ]
    }
   ],
   "source": [
    "#calculate loss\n",
    "import torch.nn.functional as F\n",
    "loss_fn=F.mse_loss\n",
    "loss=loss_fn(preds,targets)\n",
    "print(loss)"
   ]
  },
  {
   "cell_type": "code",
   "execution_count": 25,
   "metadata": {},
   "outputs": [],
   "source": [
    "#create and optimizer\n",
    "opt=torch.optim.SGD(model.parameters(),lr=1e-5)"
   ]
  },
  {
   "cell_type": "code",
   "execution_count": 26,
   "metadata": {},
   "outputs": [],
   "source": [
    "#now train the model\n",
    "def train(model,epoch_size,loss_fn,opt):\n",
    "    for epoch in range(100):\n",
    "        for x,y in train_dl:\n",
    "            pred=model(x)\n",
    "            loss=loss_fn(pred,y)\n",
    "            loss.backward()\n",
    "            opt.step()\n",
    "            opt.zero_grad()\n",
    "        if (epoch+1)%10==0:\n",
    "            print('epoch[{}/{}],Loss:{:.4f}'.format((epoch+1),epoch_size,loss.item()))"
   ]
  },
  {
   "cell_type": "code",
   "execution_count": 28,
   "metadata": {},
   "outputs": [
    {
     "name": "stdout",
     "output_type": "stream",
     "text": [
      "epoch[10/200],Loss:25.8621\n",
      "epoch[20/200],Loss:26.3827\n",
      "epoch[30/200],Loss:22.8058\n",
      "epoch[40/200],Loss:14.9942\n",
      "epoch[50/200],Loss:15.2208\n",
      "epoch[60/200],Loss:8.3826\n",
      "epoch[70/200],Loss:14.1352\n",
      "epoch[80/200],Loss:7.8111\n",
      "epoch[90/200],Loss:10.4179\n",
      "epoch[100/200],Loss:7.6874\n"
     ]
    }
   ],
   "source": [
    "#training the model\n",
    "epoch_size=200\n",
    "train(model,epoch_size,loss_fn,opt)"
   ]
  },
  {
   "cell_type": "code",
   "execution_count": 29,
   "metadata": {},
   "outputs": [
    {
     "name": "stdout",
     "output_type": "stream",
     "text": [
      "tensor([[ 57.2925,  70.9360],\n",
      "        [ 82.7647,  98.1545],\n",
      "        [117.1641, 138.5503],\n",
      "        [ 22.2532,  39.6844],\n",
      "        [102.1419, 113.1364],\n",
      "        [ 57.2925,  70.9360],\n",
      "        [ 82.7647,  98.1545],\n",
      "        [117.1641, 138.5503],\n",
      "        [ 22.2532,  39.6844],\n",
      "        [102.1419, 113.1364],\n",
      "        [ 57.2925,  70.9360],\n",
      "        [ 82.7647,  98.1545],\n",
      "        [117.1641, 138.5503],\n",
      "        [ 22.2532,  39.6844],\n",
      "        [102.1419, 113.1364]], grad_fn=<AddmmBackward>)\n",
      "tensor([[ 56.,  70.],\n",
      "        [ 81., 101.],\n",
      "        [119., 133.],\n",
      "        [ 22.,  37.],\n",
      "        [103., 119.],\n",
      "        [ 56.,  70.],\n",
      "        [ 81., 101.],\n",
      "        [119., 133.],\n",
      "        [ 22.,  37.],\n",
      "        [103., 119.],\n",
      "        [ 56.,  70.],\n",
      "        [ 81., 101.],\n",
      "        [119., 133.],\n",
      "        [ 22.,  37.],\n",
      "        [103., 119.]])\n"
     ]
    }
   ],
   "source": [
    "#making predictions\n",
    "pred=model(inputs)\n",
    "print(pred)\n",
    "print(targets)"
   ]
  },
  {
   "cell_type": "code",
   "execution_count": null,
   "metadata": {},
   "outputs": [],
   "source": []
  }
 ],
 "metadata": {
  "kernelspec": {
   "display_name": "Python 3",
   "language": "python",
   "name": "python3"
  },
  "language_info": {
   "codemirror_mode": {
    "name": "ipython",
    "version": 3
   },
   "file_extension": ".py",
   "mimetype": "text/x-python",
   "name": "python",
   "nbconvert_exporter": "python",
   "pygments_lexer": "ipython3",
   "version": "3.7.1"
  }
 },
 "nbformat": 4,
 "nbformat_minor": 2
}
